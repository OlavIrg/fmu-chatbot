{
 "cells": [
  {
   "cell_type": "markdown",
   "id": "3df43403-7733-4fb4-bc54-8a74b851a93a",
   "metadata": {
    "editable": true,
    "slideshow": {
     "slide_type": ""
    },
    "tags": []
   },
   "source": [
    "# Hit chat.equinor.com API endpoint"
   ]
  },
  {
   "cell_type": "markdown",
   "id": "4db68091-ed01-4ef5-be11-96d83abdf16d",
   "metadata": {},
   "source": [
    "Make a file in the same directory as this notebook, and call it `.env` (no file extension).\n",
    "\n",
    "The content should look like:\n",
    "\n",
    "```\n",
    "j\n",
    "```\n",
    "\n",
    "The value of the cookie can be retrieved from Chrome > Developer Tools > Network > Headers > Cookies > then look for `'_oauth2_proxy'`"
   ]
  },
  {
   "cell_type": "code",
   "execution_count": null,
   "id": "b521eb77-af13-4916-b5b7-b2723c02a1c7",
   "metadata": {
    "editable": true,
    "slideshow": {
     "slide_type": ""
    },
    "tags": []
   },
   "outputs": [
    {
     "ename": "ModuleNotFoundError",
     "evalue": "No module named 'dotenv'",
     "output_type": "error",
     "traceback": [
      "\u001b[1;31m---------------------------------------------------------------------------\u001b[0m",
      "\u001b[1;31mModuleNotFoundError\u001b[0m                       Traceback (most recent call last)",
      "Cell \u001b[1;32mIn[1], line 2\u001b[0m\n\u001b[0;32m      1\u001b[0m \u001b[38;5;66;03m# See https://platform.openai.com/docs/quickstart\u001b[39;00m\n\u001b[1;32m----> 2\u001b[0m \u001b[38;5;28;01mfrom\u001b[39;00m \u001b[38;5;21;01mdotenv\u001b[39;00m \u001b[38;5;28;01mimport\u001b[39;00m load_dotenv\n\u001b[0;32m      4\u001b[0m __ \u001b[38;5;241m=\u001b[39m load_dotenv(\u001b[38;5;124m\"\u001b[39m\u001b[38;5;124m.env\u001b[39m\u001b[38;5;124m\"\u001b[39m) \u001b[38;5;66;03m# If key is in a file.\u001b[39;00m\n",
      "\u001b[1;31mModuleNotFoundError\u001b[0m: No module named 'dotenv'"
     ]
    }
   ],
   "source": [
    "# See https://platform.openai.com/docs/quickstart\n",
    "from dotenv import load_dotenv\n",
    "\n",
    "__ = load_dotenv(\".env\") # If key is in a file."
   ]
  },
  {
   "cell_type": "code",
   "execution_count": null,
   "id": "0dc8eb24-f6f3-42de-8947-c599ec7f1abd",
   "metadata": {},
   "outputs": [],
   "source": [
    "import os\n",
    "\n",
    "COOKIES = {\n",
    "    '_oauth2_proxy': os.environ['EQNR_COOKIE_VALUE']\n",
    "}"
   ]
  },
  {
   "cell_type": "code",
   "execution_count": 3,
   "id": "63ea84c0-e19b-4e14-bc0a-d19b7bb1a99a",
   "metadata": {},
   "outputs": [
    {
     "name": "stdout",
     "output_type": "stream",
     "text": [
      "\n",
      "\n",
      "<!-- Copyright (C) Microsoft Corporation. All rights reserved. -->\n",
      "<!DOCTYPE html>\n",
      "<html dir=\"ltr\" class=\"\" lang=\"en\">\n",
      "<head>\n",
      "    <title>Sign in to your account</title>\n",
      "    <meta http-equiv=\"Content-Type\" content=\"text/html; charset=UTF-8\">\n",
      "    <meta http-equiv=\"X-UA-Compatible\" content=\"IE=edge\">\n",
      "    <meta name=\"viewport\" content=\"width=device-width, initial-scale=1.0, maximum-scale=2.0, user-scalable=yes\">\n",
      "    <meta http-equiv=\"Pragma\" content=\"no-cache\">\n",
      "    <meta http-equiv=\"Expires\" content=\"-1\">\n",
      "    <link rel=\"preconnect\" href=\"https://aadcdn.msauth.net\" crossorigin>\n",
      "<meta http-equiv=\"x-dns-prefetch-control\" content=\"on\">\n",
      "<link rel=\"dns-prefetch\" href=\"//aadcdn.msauth.net\">\n",
      "<link rel=\"dns-prefetch\" href=\"//aadcdn.msftauth.net\">\n",
      "\n",
      "    <meta name=\"PageID\" content=\"ConvergedSignIn\" />\n",
      "    <meta name=\"SiteID\" content=\"\" />\n",
      "    <meta name=\"ReqLC\" content=\"1033\" />\n",
      "    <meta name=\"LocLC\" content=\"en-US\" />\n",
      "\n",
      "        <meta name=\"referrer\" content=\"origin\" />\n",
      "\n",
      "        <meta name=\"format-detection\" content=\"telephone=no\" />\n",
      "\n",
      "    <noscript>\n",
      "        <meta http-equiv=\"Refresh\" content=\"0; URL=https://login.microsoftonline.com/jsdisabled\" />\n",
      "    </noscript>\n",
      "\n",
      "    \n",
      "    \n",
      "<meta name=\"robots\" content=\"none\" />\n",
      "\n",
      "<script type=\"text/javascript\">//<![CDATA[\n",
      "$Config={\"fShowPersistentCookiesWarning\":false,\"urlMsaSignUp\":\"https://login.live.com/oauth20_authorize.srf?scope=openid+profile+email+offline_access\\u0026response_type=code\\u0026client_id=51483342-085c-4d86-bf88-cf50c7252078\\u0026response_mode=form_post\\u0026redirect_uri=https%3a%2f%2flogin.microsoftonline.com%2fcommon%2ffederation%2foauth2msa\\u0026state=rQQIARAAjZA7b9NQAEZzcVsUBG3FyhJQhwrh9yN2UCXiqmkIpQ-SWkmW6Pr63tjF9vWbphILDDAiFkQnhNQlU8WEWOjA1KlsqL8AMSAGkMoEZGBFLN9yhu_oXGckTqgtyA4SkaPpLBKxwSqKI7I6ESErQKQZGCm2I2vJ5Qvzi0-O1sD4V-vRi836wY_1a_ugPPC9AnOIBmOw6GZZlNZ4Hrkw43CceyFNJoinMM9ciUfQ922I7r8F4ASAzwCcnpvbqE_QZGji7eF95mZT0lSZNbfS1V27tbESENO0dJfGO9ZqtbsbBnpjp3ovHha-tl3jYeTxQ5wNAupgPx0zV_46DBMYuVzgoYSmlGQTjTfMggyhAiVZZW0NS6yiOypriIbKVgkigmorqmELx8wtGuHQcyo4gJ5foYT4XogHECGcppV_HPCcgwnM_ewTA06mwNkUeD39p9pP5dXzWFVa76_2yrMP3dLxNE-rxt28Y2SdttIY9TM95808JWK3byp3gqC_3Df2PKsRWVEdLWk18dkM-DYDnp4vvSv_d-TDi-DoUuls9vuHl6cfHx98bX6Zu9EhwzBudntt-faoJRltYdPqxel6UQTOStFdw9aouUW1xoN8eXvpcL70Gw2\\u0026estsfed=1\\u0026uaid=4cc08728aa014aff82975041a5f54e22\\u0026signup=1\\u0026lw=1\\u0026fl=easi2\\u0026fci=3dc1cd68-c1e9-44d1-8f1a-0ac69ec4bd36\",\"urlMsaLogout\":\"https://login.live.com/logout.srf?iframed_by=https%3a%2f%2flogin.microsoftonline.com\",\"urlOtherIdpForget\":\"https://login.live.com/forgetme.srf?iframed_by=https%3a%2f%2flogin.microsoftonline.com\",\"showCantAccessAccountLink\":true,\"urlGitHubFed\":\"https://login.live.com/oauth20_authorize.srf?scope=openid+profile+email+offline_access\\u0026response_type=code\\u0026client_id=51483342-085c-4d86-bf88-cf50c7252078\\u0026response_mode=form_post\\u0026redirect_uri=https%3a%2f%2flogin.microsoftonline.com%2fcommon%2ffederation%2foauth2msa\\u0026state=rQQIARAAjZA7b9NQAEZzcVsUBG3FyhJQhwrh9yN2UCXiqmkIpQ-SWkmW6Pr63tjF9vWbphILDDAiFkQnhNQlU8WEWOjA1KlsqL8AMSAGkMoEZGBFLN9yhu_oXGckTqgtyA4SkaPpLBKxwSqKI7I6ESErQKQZGCm2I2vJ5Qvzi0-O1sD4V-vRi836wY_1a_ugPPC9AnOIBmOw6GZZlNZ4Hrkw43CceyFNJoinMM9ciUfQ922I7r8F4ASAzwCcnpvbqE_QZGji7eF95mZT0lSZNbfS1V27tbESENO0dJfGO9ZqtbsbBnpjp3ovHha-tl3jYeTxQ5wNAupgPx0zV_46DBMYuVzgoYSmlGQTjTfMggyhAiVZZW0NS6yiOypriIbKVgkigmorqmELx8wtGuHQcyo4gJ5foYT4XogHECGcppV_HPCcgwnM_ewTA06mwNkUeD39p9pP5dXzWFVa76_2yrMP3dLxNE-rxt28Y2SdttIY9TM95808JWK3byp3gqC_3Df2PKsRWVEdLWk18dkM-DYDnp4vvSv_d-TDi-DoUuls9vuHl6cfHx98bX6Zu9EhwzBudntt-faoJRltYdPqxel6UQTOStFdw9aouUW1xoN8eXvpcL70Gw2\\u0026estsfed=1\\u0026uaid=4cc08728aa014aff82975041a5f54e22\\u0026fci=3dc1cd68-c1e9-44d1-8f1a-0ac69ec4bd36\\u0026idp_hint=github.com\",\"arrExternalTrustedRealmFederatedIdps\":[],\"fShowSignInWithGitHubOnlyOnCredPicker\":true,\"fEnableShowResendCode\":true,\"iShowResendCodeDelay\":90000,\"sSMSCtryPhoneData\":\"AF~Afghanistan~93!!!AX~Åland Islands~358!!!AL~Albania~355!!!DZ~Algeria~213!!!AS~American Samoa~1!!!AD~Andorra~376!!!AO~Angola~244!!!AI~Anguilla~1!!!AG~Antigua and Barbuda~1!!!AR~Argentina~54!!!AM~Armenia~374!!!AW~Aruba~297!!!AC~Ascension Island~247!!!AU~Australia~61!!!AT~Austria~43!!!AZ~Azerbaijan~994!!!BS~Bahamas~1!!!BH~Bahrain~973!!!BD~Bangladesh~880!!!BB~Barbados~1!!!BY~Belarus~375!!!BE~Belgium~32!!!BZ~Belize~501!!!BJ~Benin~229!!!BM~Bermuda~1!!!BT~Bhutan~975!!!BO~Bolivia~591!!!BQ~Bonaire~599!!!BA~Bosnia and Herzegovina~387!!!BW~Botswana~267!!!BR~Brazil~55!!!IO~British Indian Ocean Territory~246!!!VG~British Virgin Islands~1!!!BN~Brunei~673!!!BG~Bulgaria~359!!!BF~Burkina Faso~226!!!BI~Burundi~257!!!CV~Cabo Verde~238!!!KH~Cambodia~855!!!CM~Cameroon~237!!!CA~Canada~1!!!KY~Cayman Islands~1!!!CF~Central African Republic~236!!!TD~Chad~235!!!CL~Chile~56!!!CN~China~86!!!CX~Christmas Island~61!!!CC~Cocos (Keeling) Islands~61!!!CO~Colombia~57!!!KM~Comoros~269!!!CG~Congo~242!!!CD~Congo (DRC)~243!!!CK~Cook Islands~682!!!CR~Costa Rica~506!!!CI~Côte d\\u0027Ivoire~225!!!HR~Croatia~385!!!CU~Cuba~53!!!CW~Curaçao~599!!!CY~Cyprus~357!!!CZ~Czechia~420!!!DK~Denmark~45!!!DJ~Djibouti~253!!!DM~Dominica~1!!!DO~Dominican Republic~1!!!EC~Ecuador~593!!!EG~Egypt~20!!!SV~El Salvador~503!!!GQ~Equatorial Guinea~240!!!ER~Eritrea~291!!!EE~Estonia~372!!!ET~Ethiopia~251!!!FK~Falkland Islands~500!!!FO~Faroe Islands~298!!!FJ~Fiji~679!!!FI~Finland~358!!!FR~France~33!!!GF~French Guiana~594!!!PF~French Polynesia~689!!!GA~Gabon~241!!!GM~Gambia~220!!!GE~Georgia~995!!!DE~Germany~49!!!GH~Ghana~233!!!GI~Gibraltar~350!!!GR~Greece~30!!!GL~Greenland~299!!!GD~Grenada~1!!!GP~Guadeloupe~590!!!GU~Guam~1!!!GT~Guatemala~502!!!GG~Guernsey~44!!!GN~Guinea~224!!!GW~Guinea-Bissau~245!!!GY~Guyana~592!!!HT~Haiti~509!!!HN~Honduras~504!!!HK~Hong Kong SAR~852!!!HU~Hungary~36!!!IS~Iceland~354!!!IN~India~91!!!ID~Indonesia~62!!!IR~Iran~98!!!IQ~Iraq~964!!!IE~Ireland~353!!!IM~Isle of Man~44!!!IL~Israel~972!!!IT~Italy~39!!!JM~Jamaica~1!!!JP~Japan~81!!!JE~Jersey~44!!!JO~Jordan~962!!!KZ~Kazakhstan~7!!!KE~Kenya~254!!!KI~Kiribati~686!!!KR~Korea~82!!!KW~Kuwait~965!!!KG~Kyrgyzstan~996!!!LA~Laos~856!!!LV~Latvia~371!!!LB~Lebanon~961!!!LS~Lesotho~266!!!LR~Liberia~231!!!LY~Libya~218!!!LI~Liechtenstein~423!!!LT~Lithuania~370!!!LU~Luxembourg~352!!!MO~Macao SAR~853!!!MG~Madagascar~261!!!MW~Malawi~265!!!MY~Malaysia~60!!!MV~Maldives~960!!!ML~Mali~223!!!MT~Malta~356!!!MH~Marshall Islands~692!!!MQ~Martinique~596!!!MR~Mauritania~222!!!MU~Mauritius~230!!!YT~Mayotte~262!!!MX~Mexico~52!!!FM~Micronesia~691!!!MD~Moldova~373!!!MC~Monaco~377!!!MN~Mongolia~976!!!ME~Montenegro~382!!!MS~Montserrat~1!!!MA~Morocco~212!!!MZ~Mozambique~258!!!MM~Myanmar~95!!!NA~Namibia~264!!!NR~Nauru~674!!!NP~Nepal~977!!!NL~Netherlands~31!!!NC~New Caledonia~687!!!NZ~New Zealand~64!!!NI~Nicaragua~505!!!NE~Niger~227!!!NG~Nigeria~234!!!NU~Niue~683!!!NF~Norfolk Island~672!!!KP~North Korea~850!!!MK~North Macedonia~389!!!MP~Northern Mariana Islands~1!!!NO~Norway~47!!!OM~Oman~968!!!PK~Pakistan~92!!!PW~Palau~680!!!PS~Palestinian Authority~970!!!PA~Panama~507!!!PG~Papua New Guinea~675!!!PY~Paraguay~595!!!PE~Peru~51!!!PH~Philippines~63!!!PL~Poland~48!!!PT~Portugal~351!!!PR~Puerto Rico~1!!!QA~Qatar~974!!!RE~Réunion~262!!!RO~Romania~40!!!RU~Russia~7!!!RW~Rwanda~250!!!BL~Saint Barthélemy~590!!!KN~Saint Kitts and Nevis~1!!!LC~Saint Lucia~1!!!MF~Saint Martin~590!!!PM~Saint Pierre and Miquelon~508!!!VC~Saint Vincent and the Grenadines~1!!!WS~Samoa~685!!!SM~San Marino~378!!!ST~São Tomé and Príncipe~239!!!SA~Saudi Arabia~966!!!SN~Senegal~221!!!RS~Serbia~381!!!SC~Seychelles~248!!!SL~Sierra Leone~232!!!SG~Singapore~65!!!SX~Sint Maarten~1!!!SK~Slovakia~421!!!SI~Slovenia~386!!!SB~Solomon Islands~677!!!SO~Somalia~252!!!ZA~South Africa~27!!!SS~South Sudan~211!!!ES~Spain~34!!!LK~Sri Lanka~94!!!SH~St Helena, Ascension, and Tristan da Cunha~290!!!SD~Sudan~249!!!SR~Suriname~597!!!SJ~Svalbard~47!!!SZ~Swaziland~268!!!SE~Sweden~46!!!CH~Switzerland~41!!!SY~Syria~963!!!TW~Taiwan~886!!!TJ~Tajikistan~992!!!TZ~Tanzania~255!!!TH~Thailand~66!!!TL~Timor-Leste~670!!!TG~Togo~228!!!TK~Tokelau~690!!!TO~Tonga~676!!!TT~Trinidad and Tobago~1!!!TA~Tristan da Cunha~290!!!TN~Tunisia~216!!!TR~Turkey~90!!!TM~Turkmenistan~993!!!TC~Turks and Caicos Islands~1!!!TV~Tuvalu~688!!!VI~U.S. Virgin Islands~1!!!UG~Uganda~256!!!UA~Ukraine~380!!!AE~United Arab Emirates~971!!!GB~United Kingdom~44!!!US~United States~1!!!UY~Uruguay~598!!!UZ~Uzbekistan~998!!!VU~Vanuatu~678!!!VA~Vatican City~39!!!VE~Venezuela~58!!!VN~Vietnam~84!!!WF~Wallis and Futuna~681!!!YE~Yemen~967!!!ZM~Zambia~260!!!ZW~Zimbabwe~263\",\"fUseInlinePhoneNumber\":true,\"fDetectBrowserCapabilities\":true,\"fUseMinHeight\":true,\"fShouldSupportTargetCredentialForRecovery\":true,\"fFixResetTargetCredentialForRecovery\":true,\"fAvoidNewOtcGenerationWhenAlreadySent\":true,\"fAllowLoginTextCustomizations\":true,\"fUsePromotedFedCredTypesArray\":true,\"fUseCertificateInterstitialView\":true,\"fIsPasskeySupportEnabled\":true,\"arrPromotedFedCredTypes\":[],\"fShowUserAlreadyExistErrorHandling\":true,\"fBlockOnAppleEmailClaimError\":true,\"fIsVerifiableCredentialsSupportEnabled\":true,\"iVerifiableCredentialPresentationPollingIntervalSeconds\":0.5,\"iVerifiableCredentialPresentationPollingTimeoutSeconds\":300,\"fSamlAndOidcCompatibleUx\":true,\"fUpdateFacebookIcon\":true,\"urlSessionState\":\"https://login.microsoftonline.com/common/DeviceCodeStatus\",\"urlResetPassword\":\"https://passwordreset.microsoftonline.com/?ru=https%3a%2f%2flogin.microsoftonline.com%2f3aa4a235-b6e2-48d5-9195-7fcf05b459b0%2freprocess%3fctx%3drQQIARAAjZA9b9NAAIZzuC0qEm3FyhJQhwrh77NjB1UirpqGUPqV1EqyVOfzXexi-_wZmkosMMCIWBBMCKlLJsSEWOjA1KndUH8BYkAMIJUJmoEVsbzLM7yPnhucIkjVedXFMnZ1g8cyMXkIXZk3qIx4CWHdJBg6rqqnVy7NLTw5XAWj381HLzZqBz_Xro_AgpfncVYVReyhXCBJ4UcsFTALRYaK3FNEjILAQfj-ewCOAfgCwOmF2fXaGI2Hpf4-ecXdaii6pvLWZray5zTXl0NqWbbhsWTXXql09qLQqO9WtpL-INC3qyKKfbFP8p2QuSTIRtzVvw79FMWeEPo4ZRmj-VjjHTevIgSRomq8oxOFh4ar8aZsanyFYippDtRMRzribrOYRL5bJiHygzKjNPAjsoMwJllW_seBKLiEoiLIP3PgeAKcTYA3k-elfsHXzxMNNj9e607PPPRKR5Miq5j3iraZt1uwPuzlRiFaRUblTs-Cd8Owt9Qz9327HttxDS_qVfnZFPg-BZ5eLH2Y_u_Ih5dLZzM_Pr08PXl88K3xdfZmm_ajpNHpttQ7w6ZitqQNu5tka4NB6C4POqvEHjY2mV5_UCxtL76dK_0B0\\u0026mkt=en-US\\u0026hosted=0\",\"urlMsaResetPassword\":\"https://account.live.com/password/reset?wreply=https%3a%2f%2flogin.microsoftonline.com%2f3aa4a235-b6e2-48d5-9195-7fcf05b459b0%2freprocess%3fctx%3drQQIARAAjZA9b9NAAIZzuC0qEm3FyhJQhwrh77NjB1UirpqGUPqV1EqyVOfzXexi-_wZmkosMMCIWBBMCKlLJsSEWOjA1KndUH8BYkAMIJUJmoEVsbzLM7yPnhucIkjVedXFMnZ1g8cyMXkIXZk3qIx4CWHdJBg6rqqnVy7NLTw5XAWj381HLzZqBz_Xro_AgpfncVYVReyhXCBJ4UcsFTALRYaK3FNEjILAQfj-ewCOAfgCwOmF2fXaGI2Hpf4-ecXdaii6pvLWZray5zTXl0NqWbbhsWTXXql09qLQqO9WtpL-INC3qyKKfbFP8p2QuSTIRtzVvw79FMWeEPo4ZRmj-VjjHTevIgSRomq8oxOFh4ar8aZsanyFYippDtRMRzribrOYRL5bJiHygzKjNPAjsoMwJllW_seBKLiEoiLIP3PgeAKcTYA3k-elfsHXzxMNNj9e607PPPRKR5Miq5j3iraZt1uwPuzlRiFaRUblTs-Cd8Owt9Qz9327HttxDS_qVfnZFPg-BZ5eLH2Y_u_Ih5dLZzM_Pr08PXl88K3xdfZmm_ajpNHpttQ7w6ZitqQNu5tka4NB6C4POqvEHjY2mV5_UCxtL76dK_0B0\\u0026mkt=en-US\",\"fFixUrlResetPassword\":true,\"urlGetCredentialType\":\"https://login.microsoftonline.com/common/GetCredentialType?mkt=en-US\",\"urlGetRecoveryCredentialType\":\"https://login.microsoftonline.com/common/getrecoverycredentialtype?mkt=en-US\",\"urlGetOneTimeCode\":\"https://login.microsoftonline.com/common/GetOneTimeCode\",\"urlLogout\":\"https://login.microsoftonline.com/3aa4a235-b6e2-48d5-9195-7fcf05b459b0/uxlogout\",\"urlForget\":\"https://login.microsoftonline.com/forgetuser\",\"urlDisambigRename\":\"https://go.microsoft.com/fwlink/p/?LinkID=733247\",\"urlGoToAADError\":\"https://login.live.com/oauth20_authorize.srf?scope=openid+profile+email+offline_access\\u0026response_type=code\\u0026client_id=51483342-085c-4d86-bf88-cf50c7252078\\u0026response_mode=form_post\\u0026redirect_uri=https%3a%2f%2flogin.microsoftonline.com%2fcommon%2ffederation%2foauth2msa\\u0026state=rQQIARAAjZA7b9NQAEZzcVsUBG3FyhJQhwrh9yN2UCXiqmkIpQ-SWkmW6Pr63tjF9vWbphILDDAiFkQnhNQlU8WEWOjA1KlsqL8AMSAGkMoEZGBFLN9yhu_oXGckTqgtyA4SkaPpLBKxwSqKI7I6ESErQKQZGCm2I2vJ5Qvzi0-O1sD4V-vRi836wY_1a_ugPPC9AnOIBmOw6GZZlNZ4Hrkw43CceyFNJoinMM9ciUfQ922I7r8F4ASAzwCcnpvbqE_QZGji7eF95mZT0lSZNbfS1V27tbESENO0dJfGO9ZqtbsbBnpjp3ovHha-tl3jYeTxQ5wNAupgPx0zV_46DBMYuVzgoYSmlGQTjTfMggyhAiVZZW0NS6yiOypriIbKVgkigmorqmELx8wtGuHQcyo4gJ5foYT4XogHECGcppV_HPCcgwnM_ewTA06mwNkUeD39p9pP5dXzWFVa76_2yrMP3dLxNE-rxt28Y2SdttIY9TM95808JWK3byp3gqC_3Df2PKsRWVEdLWk18dkM-DYDnp4vvSv_d-TDi-DoUuls9vuHl6cfHx98bX6Zu9EhwzBudntt-faoJRltYdPqxel6UQTOStFdw9aouUW1xoN8eXvpcL70Gw2\\u0026estsfed=1\\u0026uaid=4cc08728aa014aff82975041a5f54e22\\u0026fci=3dc1cd68-c1e9-44d1-8f1a-0ac69ec4bd36\",\"urlDeviceFingerprinting\":\"\",\"urlPIAEndAuth\":\"https://login.microsoftonline.com/common/PIA/EndAuth\",\"fKMSIEnabled\":false,\"iLoginMode\":1,\"fAllowPhoneSignIn\":true,\"fAllowPhoneInput\":true,\"fAllowSkypeNameLogin\":true,\"iMaxPollErrors\":5,\"iPollingTimeout\":60,\"srsSuccess\":true,\"fShowSwitchUser\":true,\"arrValErrs\":[\"50058\"],\"sErrorCode\":\"50058\",\"sWAMExtension\":\"ppnbnpeolgkicgegkbkbjmhlideopiji\",\"sWAMChannel\":\"53ee284d-920a-4b59-9d30-a60315b26836\",\"sErrTxt\":\"\",\"sResetPasswordPrefillParam\":\"username\",\"onPremPasswordValidationConfig\":{\"isUserRealmPrecheckEnabled\":true},\"fSwitchDisambig\":true,\"iRemoteNgcPollingType\":2,\"fUseNewNoPasswordTypes\":true,\"urlAadSignup\":\"https://signup.microsoft.com/signup?sku=teams_commercial_trial\\u0026origin=ests\\u0026culture=en-US\",\"urlTenantedEndpointFormat\":\"https://login.microsoftonline.com/{0}/oauth2/v2.0/authorize?approval_prompt=force\\u0026client_id=3dc1cd68-c1e9-44d1-8f1a-0ac69ec4bd36\\u0026redirect_uri=https%3a%2f%2fchat.equinor.com%2foauth2%2fcallback\\u0026response_type=code\\u0026scope=openid+email+offline_access+https%3a%2f%2fgraph.microsoft.com%2f.default\\u0026state=H2653-BQsGxbJOEmfBBV8hoqjVG7Xxnm8Fj7Rqgvl6U%3a%2fapi%2fget_models\\u0026allowbacktocommon=True\",\"sCloudInstanceName\":\"microsoftonline.com\",\"fShowSignInOptionsAsButton\":true,\"fUseNewPhoneSignInError\":true,\"fImprovePhoneDisambig\":true,\"fIsUpdatedAutocompleteEnabled\":true,\"fActivateFocusOnApprovalNumberRemoteNGC\":true,\"fIsPasskey\":true,\"fEnableDFPIntegration\":true,\"iMaxStackForKnockoutAsyncComponents\":10000,\"fShowButtons\":true,\"urlCdn\":\"https://aadcdn.msauth.net/shared/1.0/\",\"urlDefaultFavicon\":\"https://aadcdn.msauth.net/shared/1.0/content/images/favicon_a_eupayfgghqiai7k9sol6lg2.ico\",\"urlFooterTOU\":\"https://www.microsoft.com/en-US/servicesagreement/\",\"urlFooterPrivacy\":\"https://privacy.microsoft.com/en-US/privacystatement\",\"urlPost\":\"/3aa4a235-b6e2-48d5-9195-7fcf05b459b0/login\",\"urlRefresh\":\"https://login.microsoftonline.com/3aa4a235-b6e2-48d5-9195-7fcf05b459b0/reprocess?ctx=rQQIARAAjZA9b9NAAIZzuC0qEm3FyhJQhwrh77NjB1UirpqGUPqV1EqyVOfzXexi-_wZmkosMMCIWBBMCKlLJsSEWOjA1KndUH8BYkAMIJUJmoEVsbzLM7yPnhucIkjVedXFMnZ1g8cyMXkIXZk3qIx4CWHdJBg6rqqnVy7NLTw5XAWj381HLzZqBz_Xro_AgpfncVYVReyhXCBJ4UcsFTALRYaK3FNEjILAQfj-ewCOAfgCwOmF2fXaGI2Hpf4-ecXdaii6pvLWZray5zTXl0NqWbbhsWTXXql09qLQqO9WtpL-INC3qyKKfbFP8p2QuSTIRtzVvw79FMWeEPo4ZRmj-VjjHTevIgSRomq8oxOFh4ar8aZsanyFYippDtRMRzribrOYRL5bJiHygzKjNPAjsoMwJllW_seBKLiEoiLIP3PgeAKcTYA3k-elfsHXzxMNNj9e607PPPRKR5Miq5j3iraZt1uwPuzlRiFaRUblTs-Cd8Owt9Qz9327HttxDS_qVfnZFPg-BZ5eLH2Y_u_Ih5dLZzM_Pr08PXl88K3xdfZmm_ajpNHpttQ7w6ZitqQNu5tka4NB6C4POqvEHjY2mV5_UCxtL76dK_0B0\",\"urlCancel\":\"https://chat.equinor.com/oauth2/callback?error=access_denied\\u0026error_subcode=cancel\\u0026state=H2653-BQsGxbJOEmfBBV8hoqjVG7Xxnm8Fj7Rqgvl6U%3a%2fapi%2fget_models\",\"urlResume\":\"https://login.microsoftonline.com/3aa4a235-b6e2-48d5-9195-7fcf05b459b0/resume?ctx=rQQIARAAjZA9b9NAAIZzuC0qEm3FyhJQhwrh77NjB1UirpqGUPqV1EqyVOfzXexi-_wZmkosMMCIWBBMCKlLJsSEWOjA1KndUH8BYkAMIJUJmoEVsbzLM7yPnhucIkjVedXFMnZ1g8cyMXkIXZk3qIx4CWHdJBg6rqqnVy7NLTw5XAWj381HLzZqBz_Xro_AgpfncVYVReyhXCBJ4UcsFTALRYaK3FNEjILAQfj-ewCOAfgCwOmF2fXaGI2Hpf4-ecXdaii6pvLWZray5zTXl0NqWbbhsWTXXql09qLQqO9WtpL-INC3qyKKfbFP8p2QuSTIRtzVvw79FMWeEPo4ZRmj-VjjHTevIgSRomq8oxOFh4ar8aZsanyFYippDtRMRzribrOYRL5bJiHygzKjNPAjsoMwJllW_seBKLiEoiLIP3PgeAKcTYA3k-elfsHXzxMNNj9e607PPPRKR5Miq5j3iraZt1uwPuzlRiFaRUblTs-Cd8Owt9Qz9327HttxDS_qVfnZFPg-BZ5eLH2Y_u_Ih5dLZzM_Pr08PXl88K3xdfZmm_ajpNHpttQ7w6ZitqQNu5tka4NB6C4POqvEHjY2mV5_UCxtL76dK_0B0\",\"iPawnIcon\":0,\"iPollingInterval\":1,\"sPOST_Username\":\"\",\"sFT\":\"AQABIQEAAAApTwJmzXqdR4BN2miheQMY7jtA5gdjupz2ZlJG0V1KAl3Dt0jNal4TAVprY4_B1PJ2EB2hFf2LzTGi2Sev-r-sV_tucMjqOmf-lgYvivAhUgUfqgYFWIzuB3K_jIsnNUqFdpDJK563AjCOUWEwbq726x8svfyj6sE0Kx2bKek5tkolf2f3DWjwg2gnQj2eXTZiFGFRDX2VNjOaMKgjWb1jnX5-eeUu3tjF1Ql3xY0wfvwPrgh29fnfofsjrSqH0c3puMz-qvBkFgVDomvCHZ9OOTHcnmaOErwRT6c48n6q3uOdGUqNLSI1Ycezy7T8ZEO3Em1XkomrWD_m6S7Nqjx9P7I6ifCO6AABreQU3w4KNujMbPpWLWVAqxER6H6qXDUKnCcZTvjJJ7wv44Dd-181ZMhXPg-bnmMmIZn1germw7NbjldMDIqs8DLCIaxu1NY6NKlWPnMXxpqYfA2vN0Fm3lyEFc98QkPWV7VzILRafTUSpjvJPToVWeOWu0E8FRKw7VG7CwDlcBQbLSvF0XwUIAA\",\"sFTName\":\"flowToken\",\"sSessionIdentifierName\":\"code\",\"sCtx\":\"rQQIARAAjZA9b9NAAIZzuC0qEm3FyhJQhwrh77NjB1UirpqGUPqV1EqyVOfzXexi-_wZmkosMMCIWBBMCKlLJsSEWOjA1KndUH8BYkAMIJUJmoEVsbzLM7yPnhucIkjVedXFMnZ1g8cyMXkIXZk3qIx4CWHdJBg6rqqnVy7NLTw5XAWj381HLzZqBz_Xro_AgpfncVYVReyhXCBJ4UcsFTALRYaK3FNEjILAQfj-ewCOAfgCwOmF2fXaGI2Hpf4-ecXdaii6pvLWZray5zTXl0NqWbbhsWTXXql09qLQqO9WtpL-INC3qyKKfbFP8p2QuSTIRtzVvw79FMWeEPo4ZRmj-VjjHTevIgSRomq8oxOFh4ar8aZsanyFYippDtRMRzribrOYRL5bJiHygzKjNPAjsoMwJllW_seBKLiEoiLIP3PgeAKcTYA3k-elfsHXzxMNNj9e607PPPRKR5Miq5j3iraZt1uwPuzlRiFaRUblTs-Cd8Owt9Qz9327HttxDS_qVfnZFPg-BZ5eLH2Y_u_Ih5dLZzM_Pr08PXl88K3xdfZmm_ajpNHpttQ7w6ZitqQNu5tka4NB6C4POqvEHjY2mV5_UCxtL76dK_0B0\",\"iProductIcon\":-1,\"fEnableOneDSClientTelemetry\":true,\"urlReportPageLoad\":\"https://login.microsoftonline.com/common/instrumentation/reportpageload?mkt=en-US\",\"staticTenantBranding\":[{\"Locale\":0,\"BannerLogo\":\"https://aadcdn.msauthimages.net/c1c6b6c8-ie9fmk-bbrcfbnkla-jvwrutjm-xpd8ueq-god7ko1c/logintenantbranding/0/bannerlogo?ts=636620462165182159\",\"Illustration\":\"https://aadcdn.msauthimages.net/c1c6b6c8-ie9fmk-bbrcfbnkla-jvwrutjm-xpd8ueq-god7ko1c/logintenantbranding/0/illustration?ts=635887880883478781\",\"BackgroundColor\":\"#333333\",\"KeepMeSignedInDisabled\":false,\"UseTransparentLightBox\":false}],\"oAppCobranding\":{},\"iBackgroundImage\":2,\"arrSessions\":[],\"fApplicationInsightsEnabled\":false,\"iApplicationInsightsEnabledPercentage\":0,\"urlSetDebugMode\":\"https://login.microsoftonline.com/common/debugmode\",\"fEnableCssAnimation\":true,\"fAllowGrayOutLightBox\":true,\"fIsRemoteNGCSupported\":true,\"urlLogin\":\"https://login.microsoftonline.com/3aa4a235-b6e2-48d5-9195-7fcf05b459b0/reprocess?ctx=rQQIARAAjZA9b9NAAIZzuC0qEm3FyhJQhwrh77NjB1UirpqGUPqV1EqyVOfzXexi-_wZmkosMMCIWBBMCKlLJsSEWOjA1KndUH8BYkAMIJUJmoEVsbzLM7yPnhucIkjVedXFMnZ1g8cyMXkIXZk3qIx4CWHdJBg6rqqnVy7NLTw5XAWj381HLzZqBz_Xro_AgpfncVYVReyhXCBJ4UcsFTALRYaK3FNEjILAQfj-ewCOAfgCwOmF2fXaGI2Hpf4-ecXdaii6pvLWZray5zTXl0NqWbbhsWTXXql09qLQqO9WtpL-INC3qyKKfbFP8p2QuSTIRtzVvw79FMWeEPo4ZRmj-VjjHTevIgSRomq8oxOFh4ar8aZsanyFYippDtRMRzribrOYRL5bJiHygzKjNPAjsoMwJllW_seBKLiEoiLIP3PgeAKcTYA3k-elfsHXzxMNNj9e607PPPRKR5Miq5j3iraZt1uwPuzlRiFaRUblTs-Cd8Owt9Qz9327HttxDS_qVfnZFPg-BZ5eLH2Y_u_Ih5dLZzM_Pr08PXl88K3xdfZmm_ajpNHpttQ7w6ZitqQNu5tka4NB6C4POqvEHjY2mV5_UCxtL76dK_0B0\",\"urlDssoStatus\":\"https://login.microsoftonline.com/common/instrumentation/dssostatus\",\"fUseSameSite\":true,\"iAllowedIdentities\":2,\"uiflavor\":1001,\"fOfflineAccountVisible\":false,\"fEnableUserStateFix\":true,\"fAccessPassSupported\":true,\"fShowAccessPassPeek\":true,\"fUpdateSessionPollingLogic\":true,\"fEnableShowPickerCredObservable\":true,\"fFetchSessionsSkipDsso\":true,\"fUseNonMicrosoftDefaultBrandingForCiam\":true,\"sCompanyDisplayName\":\"Equinor\",\"fRemoveCustomCss\":true,\"fFixUICrashForApiRequestHandler\":true,\"fShowUpdatedKoreanPrivacyFooter\":true,\"fUsePostCssHotfix\":true,\"fUseHighContrastOverrides\":true,\"fFixUserFlowBranding\":true,\"scid\":1013,\"hpgact\":1800,\"hpgid\":1104,\"pgid\":\"ConvergedSignIn\",\"apiCanary\":\"PAQABDgEAAAApTwJmzXqdR4BN2miheQMYh8aL43cMLTgQujJxT4KcxmhnEPPzPhYr2sk5ucQV6Mkcwlb7BOY5xO4LWcgLGYMMQIJit1X7Gm3teHcC_vFWDu6Tfb21DrP2QiXI30v2rwH4ifjZGomVUlUmc059K92R49TimbyMMJad_KigYNjKextlOVtL945ge4zU0hEGxrZYPZK0OKeoJFyID1BgPHQ5ICqiVXwZGF4BtUpBfRr6iyAA\",\"canary\":\"o79MuT9tTS4FyZt8u/Busf1XZB4KmmZCZ9ziVFpVpAc=6:1:CANARY:TfgnqHXYS3IyJ29S0PVYqsNvvmdEvXLeVyHQo6FwuCU=\",\"sCanaryTokenName\":\"canary\",\"fSkipRenderingNewCanaryToken\":false,\"fEnableNewCsrfProtection\":true,\"correlationId\":\"4cc08728-aa01-4aff-8297-5041a5f54e22\",\"sessionId\":\"92a034f9-3571-4a34-bf21-59090e7d6800\",\"locale\":{\"mkt\":\"en-US\",\"lcid\":1033},\"slMaxRetry\":2,\"slReportFailure\":true,\"strings\":{\"desktopsso\":{\"authenticatingmessage\":\"Trying to sign you in\"}},\"enums\":{\"ClientMetricsModes\":{\"None\":0,\"SubmitOnPost\":1,\"SubmitOnRedirect\":2,\"InstrumentPlt\":4}},\"urls\":{\"instr\":{\"pageload\":\"https://login.microsoftonline.com/common/instrumentation/reportpageload\",\"dssostatus\":\"https://login.microsoftonline.com/common/instrumentation/dssostatus\"}},\"browser\":{\"ltr\":1,\"_Other\":1,\"Full\":1,\"RE_Other\":1,\"b\":{\"name\":\"Other\",\"major\":-1,\"minor\":-1},\"os\":{\"name\":\"Unknown\",\"version\":\"\"},\"V\":-1},\"watson\":{\"url\":\"/common/handlers/watson\",\"bundle\":\"https://aadcdn.msauth.net/ests/2.1/content/cdnbundles/watson.min_q5ptmu8aniymd4ftuqdkda2.js\",\"sbundle\":\"https://aadcdn.msauth.net/ests/2.1/content/cdnbundles/watsonsupportwithjquery.3.5.min_dc940oomzau4rsu8qesnvg2.js\",\"fbundle\":\"https://aadcdn.msauth.net/ests/2.1/content/cdnbundles/frameworksupport.min_oadrnc13magb009k4d20lg2.js\",\"resetErrorPeriod\":5,\"maxCorsErrors\":-1,\"maxInjectErrors\":5,\"maxErrors\":10,\"maxTotalErrors\":3,\"expSrcs\":[\"https://login.microsoftonline.com\",\"https://aadcdn.msauth.net/\",\"https://aadcdn.msftauth.net/\",\".login.microsoftonline.com\"],\"envErrorRedirect\":true,\"envErrorUrl\":\"/common/handlers/enverror\"},\"loader\":{\"cdnRoots\":[\"https://aadcdn.msauth.net/\",\"https://aadcdn.msftauth.net/\"],\"logByThrowing\":true,\"tenantBrandingCdnRoots\":[\"aadcdn.msauthimages.net\",\"aadcdn.msftauthimages.net\"]},\"serverDetails\":{\"slc\":\"ProdSlices\",\"dc\":\"WEULR1\",\"ri\":\"AM2XXXX\",\"ver\":{\"v\":[2,1,18298,5]},\"rt\":\"2024-06-24T07:13:11\",\"et\":74},\"clientEvents\":{\"enabled\":true,\"telemetryEnabled\":true,\"useOneDSEventApi\":true,\"flush\":60000,\"autoPost\":true,\"autoPostDelay\":1000,\"minEvents\":1,\"maxEvents\":1,\"pltDelay\":500,\"appInsightsConfig\":{\"instrumentationKey\":\"b0c252808e614e949086e019ae1cb300-e0c02060-e3b3-4965-bd7c-415e1a7a9fde-6951\",\"webAnalyticsConfiguration\":{\"autoCapture\":{\"jsError\":true}}},\"defaultEventName\":\"IDUX_ESTSClientTelemetryEvent_WebWatson\",\"serviceID\":3,\"endpointUrl\":\"https://eu-mobile.events.data.microsoft.com/OneCollector/1.0/\"},\"fApplyAsciiRegexOnInput\":true,\"country\":\"NL\",\"fBreakBrandingSigninString\":true,\"bsso\":{\"type\":\"none\",\"reason\":\"Chrome: Pull suppressed as UserAgent did not meet required criteria, Other: Pull suppressed as UserAgent did not meet required criteria\"},\"urlNoCookies\":\"https://login.microsoftonline.com/cookiesdisabled\",\"fTrimChromeBssoUrl\":true,\"inlineMode\":5,\"fTenantBrandingCdnAddEventHandlers\":true,\"fAddTryCatchForIFrameRedirects\":true};\n",
      "//]]></script> \n",
      "<script type=\"text/javascript\">//<![CDATA[\n",
      "!function(){var e=window,r=e.$Debug=e.$Debug||{},t=e.$Config||{};if(!r.appendLog){var n=[],o=0;r.appendLog=function(e){var r=t.maxDebugLog||25,i=(new Date).toUTCString()+\":\"+e;n.push(o+\":\"+i),n.length>r&&n.shift(),o++},r.getLogs=function(){return n}}}(),function(){function e(e,r){function t(i){var a=e[i];if(i<n-1){return void(o.r[a]?t(i+1):o.when(a,function(){t(i+1)}))}r(a)}var n=e.length;t(0)}function r(e,r,i){function a(){var e=!!s.method,o=e?s.method:i[0],a=s.extraArgs||[],u=n.$WebWatson;try{\n",
      "var c=t(i,!e);if(a&&a.length>0){for(var d=a.length,l=0;l<d;l++){c.push(a[l])}}o.apply(r,c)}catch(e){return void(u&&u.submitFromException&&u.submitFromException(e))}}var s=o.r&&o.r[e];return r=r||this,s&&(s.skipTimeout?a():n.setTimeout(a,0)),s}function t(e,r){return Array.prototype.slice.call(e,r?1:0)}var n=window;n.$Do||(n.$Do={\"q\":[],\"r\":[],\"removeItems\":[],\"lock\":0,\"o\":[]});var o=n.$Do;o.when=function(t,n){function i(e){r(e,a,s)||o.q.push({\"id\":e,\"c\":a,\"a\":s})}var a=0,s=[],u=1;\"function\"==typeof n||(a=n,\n",
      "u=2);for(var c=u;c<arguments.length;c++){s.push(arguments[c])}t instanceof Array?e(t,i):i(t)},o.register=function(e,t,n){if(!o.r[e]){o.o.push(e);var i={};if(t&&(i.method=t),n&&(i.skipTimeout=n),arguments&&arguments.length>3){i.extraArgs=[];for(var a=3;a<arguments.length;a++){i.extraArgs.push(arguments[a])}}o.r[e]=i,o.lock++;try{for(var s=0;s<o.q.length;s++){var u=o.q[s];u.id==e&&r(e,u.c,u.a)&&o.removeItems.push(u)}}catch(e){throw e}finally{if(0===--o.lock){for(var c=0;c<o.removeItems.length;c++){\n",
      "for(var d=o.removeItems[c],l=0;l<o.q.length;l++){if(o.q[l]===d){o.q.splice(l,1);break}}}o.removeItems=[]}}}},o.unregister=function(e){o.r[e]&&delete o.r[e]}}(),function(e,r){function t(){if(!a){if(!r.body){return void setTimeout(t)}a=!0,e.$Do.register(\"doc.ready\",0,!0)}}function n(){if(!s){if(!r.body){return void setTimeout(n)}t(),s=!0,e.$Do.register(\"doc.load\",0,!0),i()}}function o(e){(r.addEventListener||\"load\"===e.type||\"complete\"===r.readyState)&&t()}function i(){\n",
      "r.addEventListener?(r.removeEventListener(\"DOMContentLoaded\",o,!1),e.removeEventListener(\"load\",n,!1)):r.attachEvent&&(r.detachEvent(\"onreadystatechange\",o),e.detachEvent(\"onload\",n))}var a=!1,s=!1;if(\"complete\"===r.readyState){return void setTimeout(n)}!function(){r.addEventListener?(r.addEventListener(\"DOMContentLoaded\",o,!1),e.addEventListener(\"load\",n,!1)):r.attachEvent&&(r.attachEvent(\"onreadystatechange\",o),e.attachEvent(\"onload\",n))}()}(window,document),function(){function e(){\n",
      "return f.$Config||f.ServerData||{}}function r(e,r){var t=f.$Debug;t&&t.appendLog&&(r&&(e+=\" '\"+(r.src||r.href||\"\")+\"'\",e+=\", id:\"+(r.id||\"\"),e+=\", async:\"+(r.async||\"\"),e+=\", defer:\"+(r.defer||\"\")),t.appendLog(e))}function t(){var e=f.$B;if(void 0===d){if(e){d=e.IE}else{var r=f.navigator.userAgent;d=-1!==r.indexOf(\"MSIE \")||-1!==r.indexOf(\"Trident/\")}}return d}function n(){var e=f.$B;if(void 0===l){if(e){l=e.RE_Edge}else{var r=f.navigator.userAgent;l=-1!==r.indexOf(\"Edge\")}}return l}function o(e){\n",
      "var r=e.indexOf(\"?\"),t=r>-1?r:e.length,n=e.lastIndexOf(\".\",t);return e.substring(n,n+h.length).toLowerCase()===h}function i(){var r=e();return(r.loader||{}).slReportFailure||r.slReportFailure||!1}function a(){return(e().loader||{}).redirectToErrorPageOnLoadFailure||!1}function s(){return(e().loader||{}).logByThrowing||!1}function u(e){if(!t()&&!n()){return!1}var r=e.src||e.href||\"\";if(!r){return!0}if(o(r)){var i,a,s;try{i=e.sheet,a=i&&i.cssRules,s=!1}catch(e){s=!0}if(i&&!a&&s){return!0}\n",
      "if(i&&a&&0===a.length){return!0}}return!1}function c(){function t(e){g.getElementsByTagName(\"head\")[0].appendChild(e)}function n(e,r,t,n){var u=null;return u=o(e)?i(e):\"script\"===n.toLowerCase()?a(e):s(e,n),r&&(u.id=r),\"function\"==typeof u.setAttribute&&(u.setAttribute(\"crossorigin\",\"anonymous\"),t&&\"string\"==typeof t&&u.setAttribute(\"integrity\",t)),u}function i(e){var r=g.createElement(\"link\");return r.rel=\"stylesheet\",r.type=\"text/css\",r.href=e,r}function a(e){\n",
      "var r=g.createElement(\"script\"),t=g.querySelector(\"script[nonce]\");if(r.type=\"text/javascript\",r.src=e,r.defer=!1,r.async=!1,t){var n=t.nonce||t.getAttribute(\"nonce\");r.setAttribute(\"nonce\",n)}return r}function s(e,r){var t=g.createElement(r);return t.src=e,t}function d(e,r){if(e&&e.length>0&&r){for(var t=0;t<e.length;t++){if(-1!==r.indexOf(e[t])){return!0}}}return!1}function l(r){if(e().fTenantBrandingCdnAddEventHandlers){var t=d($,r)?$:b;if(!(t&&t.length>1)){return r}for(var n=0;n<t.length;n++){\n",
      "if(-1!==r.indexOf(t[n])){var o=t[n+1<t.length?n+1:0],i=r.substring(t[n].length);return\"https://\"!==t[n].substring(0,\"https://\".length)&&(o=\"https://\"+o,i=i.substring(\"https://\".length)),o+i}}return r}if(!(b&&b.length>1)){return r}for(var a=0;a<b.length;a++){if(0===r.indexOf(b[a])){return b[a+1<b.length?a+1:0]+r.substring(b[a].length)}}return r}function f(e,t,n,o){if(r(\"[$Loader]: \"+(w.failMessage||\"Failed\"),o),E[e].retry<y){return E[e].retry++,v(e,t,n),void c._ReportFailure(E[e].retry,E[e].srcPath)}n&&n()}\n",
      "function h(e,t,n,o){if(u(o)){return f(e,t,n,o)}r(\"[$Loader]: \"+(w.successMessage||\"Loaded\"),o),v(e+1,t,n);var i=E[e].onSuccess;\"function\"==typeof i&&i(E[e].srcPath)}function v(e,o,i){if(e<E.length){var a=E[e];if(!a||!a.srcPath){return void v(e+1,o,i)}a.retry>0&&(a.srcPath=l(a.srcPath),a.origId||(a.origId=a.id),a.id=a.origId+\"_Retry_\"+a.retry);var s=n(a.srcPath,a.id,a.integrity,a.tagName);s.onload=function(){h(e,o,i,s)},s.onerror=function(){f(e,o,i,s)},s.onreadystatechange=function(){\n",
      "\"loaded\"===s.readyState?setTimeout(function(){h(e,o,i,s)},500):\"complete\"===s.readyState&&h(e,o,i,s)},t(s),r(\"[$Loader]: Loading '\"+(a.srcPath||\"\")+\"', id:\"+(a.id||\"\"))}else{o&&o()}}var p=e(),y=p.slMaxRetry||2,m=p.loader||{},b=m.cdnRoots||[],$=m.tenantBrandingCdnRoots||[],w=this,E=[];w.retryOnError=!0,w.successMessage=\"Loaded\",w.failMessage=\"Error\",w.Add=function(e,r,t,n,o,i){e&&E.push({\"srcPath\":e,\"id\":r,\"retry\":n||0,\"integrity\":t,\"tagName\":o||\"script\",\"onSuccess\":i})},w.AddForReload=function(e,r){\n",
      "var t=e.src||e.href||\"\";w.Add(t,\"AddForReload\",e.integrity,1,e.tagName,r)},w.AddIf=function(e,r,t){e&&w.Add(r,t)},w.Load=function(e,r){v(0,e,r)}}var d,l,f=window,g=f.document,h=\".css\";c.On=function(e,r,t){if(!e){throw\"The target element must be provided and cannot be null.\"}r?c.OnError(e,t):c.OnSuccess(e,t)},c.OnSuccess=function(e,t){if(!e){throw\"The target element must be provided and cannot be null.\"}if(u(e)){return c.OnError(e,t)}var n=e.src||e.href||\"\",o=i(),s=a();r(\"[$Loader]: Loaded\",e);var d=new c\n",
      ";d.failMessage=\"Reload Failed\",d.successMessage=\"Reload Success\",d.Load(null,function(){if(o){throw\"Unexpected state. ResourceLoader.Load() failed despite initial load success. ['\"+n+\"']\"}s&&(document.location.href=\"/error.aspx?err=504\")})},c.OnError=function(e,t){var n=e.src||e.href||\"\",o=i(),s=a();if(!e){throw\"The target element must be provided and cannot be null.\"}r(\"[$Loader]: Failed\",e);var u=new c;u.failMessage=\"Reload Failed\",u.successMessage=\"Reload Success\",u.AddForReload(e,t),\n",
      "u.Load(null,function(){if(o){throw\"Failed to load external resource ['\"+n+\"']\"}s&&(document.location.href=\"/error.aspx?err=504\")}),c._ReportFailure(0,n)},c._ReportFailure=function(e,r){if(s()&&!t()){throw\"[Retry \"+e+\"] Failed to load external resource ['\"+r+\"'], reloading from fallback CDN endpoint\"}},f.$Loader=c}(),function(){function e(){if(!$){var e=new v.$Loader;e.AddIf(!v.jQuery,y.sbundle,\"WebWatson_DemandSupport\"),y.sbundle=null,delete y.sbundle,e.AddIf(!v.$Api,y.fbundle,\"WebWatson_DemandFramework\"),\n",
      "y.fbundle=null,delete y.fbundle,e.Add(y.bundle,\"WebWatson_DemandLoaded\"),e.Load(r,t),$=!0}}function r(){if(v.$WebWatson){if(v.$WebWatson.isProxy){return void t()}m.when(\"$WebWatson.full\",function(){for(;b.length>0;){var e=b.shift();e&&v.$WebWatson[e.cmdName].apply(v.$WebWatson,e.args)}})}}function t(){if(!v.$WebWatson||v.$WebWatson.isProxy){if(!w&&JSON){try{var e=new XMLHttpRequest;e.open(\"POST\",y.url),e.setRequestHeader(\"Accept\",\"application/json\"),\n",
      "e.setRequestHeader(\"Content-Type\",\"application/json; charset=UTF-8\"),e.setRequestHeader(\"canary\",p.apiCanary),e.setRequestHeader(\"client-request-id\",p.correlationId),e.setRequestHeader(\"hpgid\",p.hpgid||0),e.setRequestHeader(\"hpgact\",p.hpgact||0);for(var r=-1,t=0;t<b.length;t++){if(\"submit\"===b[t].cmdName){r=t;break}}var o=b[r]?b[r].args||[]:[],i={\"sr\":y.sr,\"ec\":\"Failed to load external resource [Core Watson files]\",\"wec\":55,\"idx\":1,\"pn\":p.pgid||\"\",\"sc\":p.scid||0,\"hpg\":p.hpgid||0,\n",
      "\"msg\":\"Failed to load external resource [Core Watson files]\",\"url\":o[1]||\"\",\"ln\":0,\"ad\":0,\"an\":!1,\"cs\":\"\",\"sd\":p.serverDetails,\"ls\":null,\"diag\":h(y)};e.send(JSON.stringify(i))}catch(e){}w=!0}y.loadErrorUrl&&window.location.assign(y.loadErrorUrl)}n()}function n(){b=[],v.$WebWatson=null}function o(r){return function(){var t=arguments;b.push({\"cmdName\":r,\"args\":t}),e()}}function i(){var e=[\"foundException\",\"resetException\",\"submit\"],r=this;r.isProxy=!0;for(var t=e.length,n=0;n<t;n++){var i=e[n];i&&(r[i]=o(i))}\n",
      "}function a(e,r,t,n,o,i,a){var s=v.event;return i||(i=l(o||s,a?a+2:2)),v.$Debug&&v.$Debug.appendLog&&v.$Debug.appendLog(\"[WebWatson]:\"+(e||\"\")+\" in \"+(r||\"\")+\" @ \"+(t||\"??\")),L.submit(e,r,t,n,o||s,i,a)}function s(e,r){return{\"signature\":e,\"args\":r,\"toString\":function(){return this.signature}}}function u(e){for(var r=[],t=e.split(\"\\n\"),n=0;n<t.length;n++){r.push(s(t[n],[]))}return r}function c(e){for(var r=[],t=e.split(\"\\n\"),n=0;n<t.length;n++){var o=s(t[n],[]);t[n+1]&&(o.signature+=\"@\"+t[n+1],n++),r.push(o)\n",
      "}return r}function d(e){if(!e){return null}try{if(e.stack){return u(e.stack)}if(e.error){if(e.error.stack){return u(e.error.stack)}}else if(window.opera&&e.message){return c(e.message)}}catch(e){}return null}function l(e,r){var t=[];try{for(var n=arguments.callee;r>0;){n=n?n.caller:n,r--}for(var o=0;n&&o<E;){var i=\"InvalidMethod()\";try{i=n.toString()}catch(e){}var a=[],u=n.args||n.arguments;if(u){for(var c=0;c<u.length;c++){a[c]=u[c]}}t.push(s(i,a)),n=n.caller,o++}}catch(e){t.push(s(e.toString(),[]))}\n",
      "var l=d(e);return l&&(t.push(s(\"--- Error Event Stack -----------------\",[])),t=t.concat(l)),t}function f(e){if(e){try{var r=/function (.{1,})\\(/,t=r.exec(e.constructor.toString());return t&&t.length>1?t[1]:\"\"}catch(e){}}return\"\"}function g(e){if(e){try{if(\"string\"!=typeof e&&JSON&&JSON.stringify){var r=f(e),t=JSON.stringify(e);return t&&\"{}\"!==t||(e.error&&(e=e.error,r=f(e)),(t=JSON.stringify(e))&&\"{}\"!==t||(t=e.toString())),r+\":\"+t}}catch(e){}}return\"\"+(e||\"\")}function h(e){var r=[];try{\n",
      "if(jQuery?(r.push(\"jQuery v:\"+jQuery().jquery),jQuery.easing?r.push(\"jQuery.easing:\"+JSON.stringify(jQuery.easing)):r.push(\"jQuery.easing is not defined\")):r.push(\"jQuery is not defined\"),e&&e.expectedVersion&&r.push(\"Expected jQuery v:\"+e.expectedVersion),m){var t,n=\"\";for(t=0;t<m.o.length;t++){n+=m.o[t]+\";\"}for(r.push(\"$Do.o[\"+n+\"]\"),n=\"\",t=0;t<m.q.length;t++){n+=m.q[t].id+\";\"}r.push(\"$Do.q[\"+n+\"]\")}if(v.$Debug&&v.$Debug.getLogs){var o=v.$Debug.getLogs();o&&o.length>0&&(r=r.concat(o))}if(b){\n",
      "for(var i=0;i<b.length;i++){var a=b[i];if(a&&\"submit\"===a.cmdName){try{if(JSON&&JSON.stringify){var s=JSON.stringify(a);s&&r.push(s)}}catch(e){r.push(g(e))}}}}}catch(e){r.push(g(e))}return r}var v=window,p=v.$Config||{},y=p.watson,m=v.$Do;if(!v.$WebWatson&&y){var b=[],$=!1,w=!1,E=10,L=v.$WebWatson=new i;L.CB={},L._orgErrorHandler=v.onerror,v.onerror=a,L.errorHooked=!0,m.when(\"jQuery.version\",function(e){y.expectedVersion=e}),m.register(\"$WebWatson\")}}(),function(){function e(e,r){\n",
      "for(var t=r.split(\".\"),n=t.length,o=0;o<n&&null!==e&&void 0!==e;){e=e[t[o++]]}return e}function r(r){var t=null;return null===u&&(u=e(i,\"Constants\")),null!==u&&r&&(t=e(u,r)),null===t||void 0===t?\"\":t.toString()}function t(t){var n=null;return null===a&&(a=e(i,\"$Config.strings\")),null!==a&&t&&(n=e(a,t.toLowerCase())),null!==n&&void 0!==n||(n=r(t)),null===n||void 0===n?\"\":n.toString()}function n(e,r){var n=null;return e&&r&&r[e]&&(n=t(\"errors.\"+r[e])),n||(n=t(\"errors.\"+e)),n||(n=t(\"errors.\"+c)),n||(n=t(c)),n}\n",
      "function o(t){var n=null;return null===s&&(s=e(i,\"$Config.urls\")),null!==s&&t&&(n=e(s,t.toLowerCase())),null!==n&&void 0!==n||(n=r(t)),null===n||void 0===n?\"\":n.toString()}var i=window,a=null,s=null,u=null,c=\"GENERIC_ERROR\";i.GetString=t,i.GetErrorString=n,i.GetUrl=o}(),function(){var e=window,r=e.$Config||{};e.$B=r.browser||{}}();\n",
      "//]]></script> \n",
      "<script type=\"text/javascript\">//<![CDATA[\n",
      "!function(t,e){!function(){var n=e.getElementsByTagName(\"head\")[0];n&&n.addEventListener&&(n.addEventListener(\"error\",function(e){null!==e.target&&\"cdn\"===e.target.getAttribute(\"data-loader\")&&t.$Loader.OnError(e.target)},!0),n.addEventListener(\"load\",function(e){null!==e.target&&\"cdn\"===e.target.getAttribute(\"data-loader\")&&t.$Loader.OnSuccess(e.target)},!0))}()}(window,document);\n",
      "//]]></script>\n",
      "\n",
      "        <link rel=\"prefetch\" href=\"https://login.live.com/Me.htm?v=3\" />\n",
      "                <link rel=\"shortcut icon\" href=\"https://aadcdn.msauth.net/shared/1.0/content/images/favicon_a_eupayfgghqiai7k9sol6lg2.ico\" />\n",
      "\n",
      "    <script type=\"text/javascript\">\n",
      "        ServerData = $Config;\n",
      "    </script>\n",
      "\n",
      "\n",
      "    \n",
      "    <link data-loader=\"cdn\" crossorigin=\"anonymous\" href=\"https://aadcdn.msauth.net/ests/2.1/content/cdnbundles/converged.v2.login.min_mc5ac6ol0l4d2iaqspstyg2.css\" rel=\"stylesheet\" />\n",
      "\n",
      "\n",
      "    <script data-loader=\"cdn\" crossorigin=\"anonymous\" src=\"https://aadcdn.msauth.net/shared/1.0/content/js/ConvergedLogin_PCore_7cCuNdJ3E-hQqbT-gOnvng2.js\" integrity='sha384-hUM5CuzOu4eP0oRL+kaN7OWbALx31a1KTPxA4lkRGdar9gzd3UlXOWAnlSjK0I03'></script>\n",
      "\n",
      "    <script data-loader=\"cdn\" crossorigin=\"anonymous\" src=\"https://aadcdn.msauth.net/ests/2.1/content/cdnbundles/ux.converged.login.strings-en.min_fo8rkc18qnhjh4wnzabsdg2.js\"></script>\n",
      "\n",
      "\n",
      "\n",
      "</head>\n",
      "\n",
      "<body data-bind=\"defineGlobals: ServerData, bodyCssClass\" class=\"cb remove-segoe-ui-symbol\" style=\"display: none\">\n",
      "    <script type=\"text/javascript\">//<![CDATA[\n",
      "!function(){var e=window,s=e.document,i=e.$Config||{};if(e.self===e.top){s&&s.body&&(s.body.style.display=\"block\")}else if(!i.allowFrame){var o,t,r,f,n,d;if(i.fAddTryCatchForIFrameRedirects){try{o=e.self.location.href,t=o.indexOf(\"#\"),r=-1!==t,f=o.indexOf(\"?\"),n=r?t:o.length,d=-1===f||r&&f>t?\"?\":\"&\",o=o.substr(0,n)+d+\"iframe-request-id=\"+i.sessionId+o.substr(n),e.top.location=o}catch(e){}}else{o=e.self.location.href,t=o.indexOf(\"#\"),r=-1!==t,f=o.indexOf(\"?\"),n=r?t:o.length,d=-1===f||r&&f>t?\"?\":\"&\",\n",
      "o=o.substr(0,n)+d+\"iframe-request-id=\"+i.sessionId+o.substr(n),e.top.location=o}}}();\n",
      "//]]></script>\n",
      "    \n",
      "</body>\n",
      "</html>\n"
     ]
    }
   ],
   "source": [
    "import requests\n",
    "\n",
    "url = \"https://chat.equinor.com/api/get_models\"\n",
    "\n",
    "HEADERS = {\n",
    "        \"Content-Type\": \"application/json\",\n",
    "}\n",
    "\n",
    "r = requests.post(url, headers=HEADERS, cookies=COOKIES)\n",
    "print(r.text)"
   ]
  },
  {
   "cell_type": "code",
   "execution_count": null,
   "id": "5b40bf02-18bb-4c42-8733-9ab8e39e9536",
   "metadata": {},
   "outputs": [],
   "source": [
    "URL = \"https://chat.equinor.com/api/chat\" \n",
    "\n",
    "SYSTEM = (\"You are ChatGPT, a large language model trained by OpenAI. \"\n",
    "          \"Follow the user's instructions carefully. Respond using markdown.\")\n",
    "\n",
    "JSON = {\n",
    "    \"key\": \"\",\n",
    "    \"model\": {\"id\":\"gpt-3.5-turbo\",\"name\":\"GPT-3.5\"},\n",
    "    \"prompt\": SYSTEM,\n",
    "    \"temperature\": 0,\n",
    "    \"messages\": [  # This is the message context.\n",
    "        {\n",
    "            \"role\": \"user\",  # Or \"assistant\".\n",
    "            \"content\": \"User prompt goes here.\",\n",
    "        },\n",
    "    ],\n",
    "}\n",
    "\n",
    "def ask(prompt, temperature=0):\n",
    "    JSON['temperature'] = temperature\n",
    "    JSON['messages'][0]['content'] = prompt\n",
    "    r = requests.post(URL, headers=HEADERS, json=JSON, cookies=COOKIES)\n",
    "    return r.text\n",
    "\n",
    "ask(\"Describe AI in one sentence.\")"
   ]
  },
  {
   "cell_type": "markdown",
   "id": "df3799c5-7166-4e11-8d01-ec7880ba99cf",
   "metadata": {},
   "source": [
    "## Have a conversation"
   ]
  },
  {
   "cell_type": "code",
   "execution_count": null,
   "id": "ecc7e772-369e-4dd9-a387-10312a17296e",
   "metadata": {},
   "outputs": [],
   "source": [
    "ask(\"My name is Olav.\")"
   ]
  },
  {
   "cell_type": "code",
   "execution_count": null,
   "id": "685912f7-9804-402e-a770-66da9b32f2e2",
   "metadata": {},
   "outputs": [],
   "source": [
    "ask(\"What is my name?\")"
   ]
  },
  {
   "cell_type": "code",
   "execution_count": null,
   "id": "20333a32-d945-40f1-8117-95ec80b71a74",
   "metadata": {},
   "outputs": [],
   "source": [
    "class Convo:\n",
    "    def __init__(self, temperature=0):\n",
    "        self.temperature = temperature\n",
    "        self.messages = []\n",
    "\n",
    "    def converse(self, prompt):\n",
    "        JSON['temperature'] = self.temperature\n",
    "        self.messages.append({'role': 'user',  'content': prompt})\n",
    "        JSON['messages'] = self.messages\n",
    "        r = requests.post(URL, headers=HEADERS, json=JSON, cookies=COOKIES)\n",
    "        self.messages.append({'role': 'assistant',  'content': r.text})\n",
    "        return r.text\n",
    "\n",
    "    def history(self):\n",
    "        return self.messages\n"
   ]
  },
  {
   "cell_type": "code",
   "execution_count": null,
   "id": "7dbb6b49-7f2e-48ea-a8b3-05124c5e8ef6",
   "metadata": {},
   "outputs": [],
   "source": [
    "conv = Convo()\n",
    "\n",
    "conv.converse(\"My name is Matt.\")\n",
    "conv.converse(\"What is my name?\")\n"
   ]
  },
  {
   "cell_type": "code",
   "execution_count": null,
   "id": "41086f8f-eb24-4026-bf8d-11fae05669b5",
   "metadata": {},
   "outputs": [],
   "source": [
    "conv.history()"
   ]
  },
  {
   "cell_type": "markdown",
   "id": "8e17c760-3f69-4c47-abdd-f6852c18fb99",
   "metadata": {},
   "source": [
    "## Hook up `langchain`"
   ]
  },
  {
   "cell_type": "code",
   "execution_count": null,
   "id": "11e16a76-3f53-4250-bc61-e087187879ea",
   "metadata": {},
   "outputs": [],
   "source": [
    "from typing import Optional, List, Any\n",
    "from langchain_core.callbacks.manager import CallbackManagerForLLMRun\n",
    "from langchain_core.language_models.llms import LLM\n",
    "\n",
    "class CustomLLM(LLM):\n",
    "\n",
    "    @property\n",
    "    def _llm_type(self) -> str:\n",
    "        return \"gpt-3.5-turbo\"\n",
    "\n",
    "    def _call(\n",
    "        self,\n",
    "        prompt: str,\n",
    "        stop: Optional[List[str]] = None,\n",
    "        run_manager: Optional[CallbackManagerForLLMRun] = None,\n",
    "        **kwargs: Any,\n",
    "    ) -> str:\n",
    "        if stop is not None:\n",
    "            raise ValueError(\"stop kwargs are not permitted.\")\n",
    "        JSON['temperature'] = 0\n",
    "        JSON['messages'][0]['content'] = prompt\n",
    "        r = requests.post(URL, headers=HEADERS, json=JSON, cookies=COOKIES)\n",
    "        return r.text"
   ]
  },
  {
   "cell_type": "code",
   "execution_count": null,
   "id": "228ef5ac-a218-44b3-8bc6-8e6d9d54f5ac",
   "metadata": {},
   "outputs": [],
   "source": [
    "llm = CustomLLM()\n",
    "\n",
    "print(llm.invoke(\"What do I get if I mix red and green?\"))"
   ]
  },
  {
   "cell_type": "markdown",
   "id": "6ca9b4ba-7dd2-44e5-b1d0-a0b4fbefc9d7",
   "metadata": {},
   "source": [
    "<span style=\"color:lightgray\">&copy; 2024 Matt Hall, Equinor &nbsp; | &nbsp; licensed CC BY, please share this work</span>"
   ]
  }
 ],
 "metadata": {
  "kernelspec": {
   "display_name": "venv",
   "language": "python",
   "name": "python3"
  },
  "language_info": {
   "codemirror_mode": {
    "name": "ipython",
    "version": 3
   },
   "file_extension": ".py",
   "mimetype": "text/x-python",
   "name": "python",
   "nbconvert_exporter": "python",
   "pygments_lexer": "ipython3",
   "version": "3.12.4"
  }
 },
 "nbformat": 4,
 "nbformat_minor": 5
}
